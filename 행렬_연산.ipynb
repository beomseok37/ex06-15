{
  "nbformat": 4,
  "nbformat_minor": 0,
  "metadata": {
    "colab": {
      "name": "행렬 연산.ipynb",
      "provenance": [],
      "collapsed_sections": [],
      "authorship_tag": "ABX9TyNaeBcTl9kBhasZohWRlYzc",
      "include_colab_link": true
    },
    "kernelspec": {
      "name": "python3",
      "display_name": "Python 3"
    }
  },
  "cells": [
    {
      "cell_type": "markdown",
      "metadata": {
        "id": "view-in-github",
        "colab_type": "text"
      },
      "source": [
        "<a href=\"https://colab.research.google.com/github/beomseok37/ex06-15/blob/master/%ED%96%89%EB%A0%AC_%EC%97%B0%EC%82%B0.ipynb\" target=\"_parent\"><img src=\"https://colab.research.google.com/assets/colab-badge.svg\" alt=\"Open In Colab\"/></a>"
      ]
    },
    {
      "cell_type": "code",
      "metadata": {
        "id": "Zaeol5BtXl-2",
        "colab_type": "code",
        "colab": {
          "base_uri": "https://localhost:8080/",
          "height": 34
        },
        "outputId": "145b1e4d-c055-4546-a7f1-da2b3910b04b"
      },
      "source": [
        "from google.colab import drive\n",
        "drive.mount('/gdrive', force_remount=True)"
      ],
      "execution_count": null,
      "outputs": [
        {
          "output_type": "stream",
          "text": [
            "Mounted at /gdrive\n"
          ],
          "name": "stdout"
        }
      ]
    },
    {
      "cell_type": "code",
      "metadata": {
        "id": "bkCWJBf0jeY4",
        "colab_type": "code",
        "colab": {
          "base_uri": "https://localhost:8080/",
          "height": 122
        },
        "outputId": "647244b3-ab16-415d-f251-6ee48661d8d8"
      },
      "source": [
        "!git clone https://github.com/beomseok37/ex06-15.git"
      ],
      "execution_count": 1,
      "outputs": [
        {
          "output_type": "stream",
          "text": [
            "Cloning into 'ex06-15'...\n",
            "remote: Enumerating objects: 9, done.\u001b[K\n",
            "remote: Counting objects: 100% (9/9), done.\u001b[K\n",
            "remote: Compressing objects: 100% (7/7), done.\u001b[K\n",
            "remote: Total 9 (delta 0), reused 9 (delta 0), pack-reused 0\u001b[K\n",
            "Unpacking objects: 100% (9/9), done.\n"
          ],
          "name": "stdout"
        }
      ]
    },
    {
      "cell_type": "code",
      "metadata": {
        "id": "W6ICWZCvjy3n",
        "colab_type": "code",
        "colab": {
          "base_uri": "https://localhost:8080/",
          "height": 70
        },
        "outputId": "c829a1b8-7e34-4723-878f-1a372629af78"
      },
      "source": [
        ""
      ],
      "execution_count": 2,
      "outputs": [
        {
          "output_type": "stream",
          "text": [
            "total 8\n",
            "drwxr-xr-x 1 root root 4096 Jun 17 16:18 \u001b[0m\u001b[01;34msample_data\u001b[0m/\n",
            "drwxr-xr-x 3 root root 4096 Jun 23 09:42 \u001b[01;34mex06-15\u001b[0m/\n"
          ],
          "name": "stdout"
        }
      ]
    },
    {
      "cell_type": "code",
      "metadata": {
        "id": "pESs9VBmYm8l",
        "colab_type": "code",
        "colab": {
          "base_uri": "https://localhost:8080/",
          "height": 263
        },
        "outputId": "bae0a3cf-6705-43f9-a01c-aaa63ae78685"
      },
      "source": [
        "import numpy as np\n",
        "\n",
        "def print_array(arr):\n",
        "  for i in range(3):\n",
        "    for s in range(3):\n",
        "      print(arr[i,s],end=\" \")\n",
        "    print()\n",
        "def change_int(arr):\n",
        "  for i in range(len(arr)):\n",
        "    arr[i]=int(arr[i])\n",
        "\n",
        "if __name__==\"__main__\":\n",
        "  x1=input(\"행렬 1:\")\n",
        "  x2=input(\"행렬 2:\")\n",
        "  list1=x1.split()\n",
        "  list2=x2.split()\n",
        "  change_int(list1)\n",
        "  change_int(list2)\n",
        "  array1=np.array(list1).reshape(3,3)\n",
        "  array2=np.array(list2).reshape(3,3)\n",
        "  plus=array1+array2\n",
        "  minus=array1-array2\n",
        "  multi=array1*array2\n",
        "  print(\"합\")\n",
        "  print_array(plus)\n",
        "  print(\"차\")\n",
        "  print_array(minus)\n",
        "  print(\"곱\")\n",
        "  print_array(multi)"
      ],
      "execution_count": null,
      "outputs": [
        {
          "output_type": "stream",
          "text": [
            "행렬 1:1 2 3 4 5 6 7 8 9\n",
            "행렬 2:1 1 1 2 2 2 1 1 1\n",
            "합\n",
            "2 3 4 \n",
            "6 7 8 \n",
            "8 9 10 \n",
            "차\n",
            "0 1 2 \n",
            "2 3 4 \n",
            "6 7 8 \n",
            "곱\n",
            "1 2 3 \n",
            "8 10 12 \n",
            "7 8 9 \n"
          ],
          "name": "stdout"
        }
      ]
    },
    {
      "cell_type": "code",
      "metadata": {
        "id": "d20fSMGYkOI8",
        "colab_type": "code",
        "colab": {
          "base_uri": "https://localhost:8080/",
          "height": 134
        },
        "outputId": "11eeaa92-7fd6-4a99-de06-7368fa2864f9"
      },
      "source": [
        "git push origin master"
      ],
      "execution_count": 3,
      "outputs": [
        {
          "output_type": "error",
          "ename": "SyntaxError",
          "evalue": "ignored",
          "traceback": [
            "\u001b[0;36m  File \u001b[0;32m\"<ipython-input-3-60fa99082b02>\"\u001b[0;36m, line \u001b[0;32m1\u001b[0m\n\u001b[0;31m    git push origin master\u001b[0m\n\u001b[0m           ^\u001b[0m\n\u001b[0;31mSyntaxError\u001b[0m\u001b[0;31m:\u001b[0m invalid syntax\n"
          ]
        }
      ]
    }
  ]
}